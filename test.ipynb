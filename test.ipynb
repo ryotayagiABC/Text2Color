{
 "cells": [
  {
   "cell_type": "code",
   "execution_count": 5,
   "id": "9afd29a8-4fcd-4a46-a4bd-de6806fc34eb",
   "metadata": {},
   "outputs": [
    {
     "name": "stdout",
     "output_type": "stream",
     "text": [
      "name 赤\n"
     ]
    },
    {
     "name": "stderr",
     "output_type": "stream",
     "text": [
      "Some weights of AlbertForPreTraining were not initialized from the model checkpoint at ALINEAR/albert-japanese-v2 and are newly initialized: ['sop_classifier.classifier.bias', 'sop_classifier.classifier.weight']\n",
      "You should probably TRAIN this model on a down-stream task to be able to use it for predictions and inference.\n",
      "/tmp/ipykernel_67824/92686054.py:21: UserWarning: To copy construct from a tensor, it is recommended to use sourceTensor.clone().detach() or sourceTensor.clone().detach().requires_grad_(True), rather than torch.tensor(sourceTensor).\n",
      "  X = torch.tensor(X, dtype=torch.float32).to(device)\n"
     ]
    },
    {
     "name": "stdout",
     "output_type": "stream",
     "text": [
      "R,G,B e6 00 33\n",
      "name 橙\n"
     ]
    },
    {
     "name": "stderr",
     "output_type": "stream",
     "text": [
      "Some weights of AlbertForPreTraining were not initialized from the model checkpoint at ALINEAR/albert-japanese-v2 and are newly initialized: ['sop_classifier.classifier.bias', 'sop_classifier.classifier.weight']\n",
      "You should probably TRAIN this model on a down-stream task to be able to use it for predictions and inference.\n"
     ]
    },
    {
     "name": "stdout",
     "output_type": "stream",
     "text": [
      "R,G,B ee 78 00\n",
      "name 黄\n"
     ]
    },
    {
     "name": "stderr",
     "output_type": "stream",
     "text": [
      "Some weights of AlbertForPreTraining were not initialized from the model checkpoint at ALINEAR/albert-japanese-v2 and are newly initialized: ['sop_classifier.classifier.bias', 'sop_classifier.classifier.weight']\n",
      "You should probably TRAIN this model on a down-stream task to be able to use it for predictions and inference.\n"
     ]
    },
    {
     "name": "stdout",
     "output_type": "stream",
     "text": [
      "R,G,B ff d9 00\n",
      "name 緑\n"
     ]
    },
    {
     "name": "stderr",
     "output_type": "stream",
     "text": [
      "Some weights of AlbertForPreTraining were not initialized from the model checkpoint at ALINEAR/albert-japanese-v2 and are newly initialized: ['sop_classifier.classifier.bias', 'sop_classifier.classifier.weight']\n",
      "You should probably TRAIN this model on a down-stream task to be able to use it for predictions and inference.\n"
     ]
    },
    {
     "name": "stdout",
     "output_type": "stream",
     "text": [
      "R,G,B 3e b3 70\n",
      "name 青\n"
     ]
    },
    {
     "name": "stderr",
     "output_type": "stream",
     "text": [
      "Some weights of AlbertForPreTraining were not initialized from the model checkpoint at ALINEAR/albert-japanese-v2 and are newly initialized: ['sop_classifier.classifier.bias', 'sop_classifier.classifier.weight']\n",
      "You should probably TRAIN this model on a down-stream task to be able to use it for predictions and inference.\n"
     ]
    },
    {
     "name": "stdout",
     "output_type": "stream",
     "text": [
      "R,G,B 00 95 d9\n",
      "name 藍\n"
     ]
    },
    {
     "name": "stderr",
     "output_type": "stream",
     "text": [
      "Some weights of AlbertForPreTraining were not initialized from the model checkpoint at ALINEAR/albert-japanese-v2 and are newly initialized: ['sop_classifier.classifier.bias', 'sop_classifier.classifier.weight']\n",
      "You should probably TRAIN this model on a down-stream task to be able to use it for predictions and inference.\n"
     ]
    },
    {
     "name": "stdout",
     "output_type": "stream",
     "text": [
      "R,G,B 16 4a 83\n",
      "name 紫\n"
     ]
    },
    {
     "name": "stderr",
     "output_type": "stream",
     "text": [
      "Some weights of AlbertForPreTraining were not initialized from the model checkpoint at ALINEAR/albert-japanese-v2 and are newly initialized: ['sop_classifier.classifier.bias', 'sop_classifier.classifier.weight']\n",
      "You should probably TRAIN this model on a down-stream task to be able to use it for predictions and inference.\n"
     ]
    },
    {
     "name": "stdout",
     "output_type": "stream",
     "text": [
      "R,G,B 88 48 98\n",
      "name 白\n"
     ]
    },
    {
     "name": "stderr",
     "output_type": "stream",
     "text": [
      "Some weights of AlbertForPreTraining were not initialized from the model checkpoint at ALINEAR/albert-japanese-v2 and are newly initialized: ['sop_classifier.classifier.bias', 'sop_classifier.classifier.weight']\n",
      "You should probably TRAIN this model on a down-stream task to be able to use it for predictions and inference.\n"
     ]
    },
    {
     "name": "stdout",
     "output_type": "stream",
     "text": [
      "R,G,B ff ff ff\n",
      "name 黒\n"
     ]
    },
    {
     "name": "stderr",
     "output_type": "stream",
     "text": [
      "Some weights of AlbertForPreTraining were not initialized from the model checkpoint at ALINEAR/albert-japanese-v2 and are newly initialized: ['sop_classifier.classifier.bias', 'sop_classifier.classifier.weight']\n",
      "You should probably TRAIN this model on a down-stream task to be able to use it for predictions and inference.\n"
     ]
    },
    {
     "name": "stdout",
     "output_type": "stream",
     "text": [
      "R,G,B 2b 2b 2b\n",
      "name 灰\n"
     ]
    },
    {
     "name": "stderr",
     "output_type": "stream",
     "text": [
      "Some weights of AlbertForPreTraining were not initialized from the model checkpoint at ALINEAR/albert-japanese-v2 and are newly initialized: ['sop_classifier.classifier.bias', 'sop_classifier.classifier.weight']\n",
      "You should probably TRAIN this model on a down-stream task to be able to use it for predictions and inference.\n"
     ]
    },
    {
     "name": "stdout",
     "output_type": "stream",
     "text": [
      "R,G,B 7d 7d 7d\n"
     ]
    },
    {
     "data": {
      "text/plain": [
       "<Figure size 640x480 with 0 Axes>"
      ]
     },
     "metadata": {},
     "output_type": "display_data"
    },
    {
     "data": {
      "text/plain": [
       "<Figure size 640x480 with 0 Axes>"
      ]
     },
     "metadata": {},
     "output_type": "display_data"
    },
    {
     "data": {
      "text/plain": [
       "<Figure size 640x480 with 0 Axes>"
      ]
     },
     "metadata": {},
     "output_type": "display_data"
    },
    {
     "data": {
      "text/plain": [
       "<Figure size 640x480 with 0 Axes>"
      ]
     },
     "metadata": {},
     "output_type": "display_data"
    },
    {
     "data": {
      "text/plain": [
       "<Figure size 640x480 with 0 Axes>"
      ]
     },
     "metadata": {},
     "output_type": "display_data"
    },
    {
     "data": {
      "text/plain": [
       "<Figure size 640x480 with 0 Axes>"
      ]
     },
     "metadata": {},
     "output_type": "display_data"
    },
    {
     "data": {
      "text/plain": [
       "<Figure size 640x480 with 0 Axes>"
      ]
     },
     "metadata": {},
     "output_type": "display_data"
    },
    {
     "data": {
      "text/plain": [
       "<Figure size 640x480 with 0 Axes>"
      ]
     },
     "metadata": {},
     "output_type": "display_data"
    },
    {
     "data": {
      "text/plain": [
       "<Figure size 640x480 with 0 Axes>"
      ]
     },
     "metadata": {},
     "output_type": "display_data"
    },
    {
     "data": {
      "image/png": "[encoded data removed]",
      "text/plain": [
       "<Figure size 640x480 with 1 Axes>"
      ]
     },
     "metadata": {},
     "output_type": "display_data"
    }
   ],
   "source": [
    "from torch.utils.data import Dataset, DataLoader\n",
    "import torch\n",
    "import pandas as pd\n",
    "from transformers import AlbertTokenizer, AlbertForPreTraining\n",
    "import time\n",
    "import numpy as np\n",
    "\n",
    "from model import Color\n",
    "\n",
    "device = torch.device(\"cuda\" if torch.cuda.is_available() else \"cpu\")\n",
    "\n",
    "def txt2clr(name, model):\n",
    "    tokenizer = AlbertTokenizer.from_pretrained('ALINEAR/albert-japanese-v2')\n",
    "    embed_model = AlbertForPreTraining.from_pretrained('ALINEAR/albert-japanese-v2')\n",
    "\n",
    "    input_ids = torch.tensor(tokenizer.encode(name, add_special_tokens=True)).unsqueeze(0)  # Batch size 1\n",
    "    outputs = embed_model(input_ids)\n",
    "\n",
    "    X = outputs.prediction_logits\n",
    "    X = torch.sum(X, 1).squeeze(1)\n",
    "    X = torch.tensor(X, dtype=torch.float32).to(device)\n",
    "    R_out, G_out, B_out = model(X)\n",
    "    R = torch.argmax(R_out)\n",
    "    G = torch.argmax(G_out)\n",
    "    B = torch.argmax(B_out)\n",
    "    colorcode = rgb2html(R, G, B)\n",
    "    return colorcode\n",
    "    \n",
    "\n",
    "def rgb2html(R, G, B):\n",
    "    r = hex(R)\n",
    "    g = hex(G)\n",
    "    b = hex(B)\n",
    "    if len(r) == 3:\n",
    "        r = r.replace('0x', '0')\n",
    "    else:\n",
    "        r = r.replace('0x', '')\n",
    "    if len(g) == 3:\n",
    "        g = g.replace('0x', '0')\n",
    "    else:\n",
    "        g = g.replace('0x', '')\n",
    "    if len(b) == 3:\n",
    "        b = b.replace('0x', '0')\n",
    "    else:\n",
    "        b = b.replace('0x', '')\n",
    "    print('R,G,B',r,g,b)\n",
    "    color_code = '#{}{}{}'.format(r,g,b)\n",
    "    return color_code\n",
    "\n",
    "def html2rgb(color_code):\n",
    "    R = int(color_code[1:3], 16)\n",
    "    G = int(color_code[3:5], 16)\n",
    "    B = int(color_code[5:7], 16)\n",
    "    return [R, G, B]\n",
    "\n",
    "\n",
    "import matplotlib.pyplot as plt\n",
    "import numpy as np\n",
    "import japanize_matplotlib\n",
    "\n",
    "#namelist = ['天鵞絨', '肉桂色', '赤', '橙', '黄', '緑', '青', '藍', '紫']\n",
    "#namelist = ['赤色', '赤', '橙色', '橙', '黄色', '黄', '緑色', '緑', '青色', '青', '藍色', '藍', '紫色', '紫', '白色', '白', '黒色', '黒', '灰色', '灰']\n",
    "namelist = ['赤', '橙', '黄', '緑', '青', '藍', '紫', '白', '黒', '灰']\n",
    "#namelist = ['赤色', '橙色', '黄色', '緑色', '青色', '藍色', '紫色', '白色', '黒色', '灰色']\n",
    "#namelist = ['宍色', '海松茶', '青緑', '蒲葡染', '萌黄', '人参色', '山吹色', '濡羽色']\n",
    "#namelist = ['海松茶','海','松','茶','海松','松茶','海茶']\n",
    "#namelist = ['松竹梅','松竹梅', '松','竹','梅','松竹','竹梅','松梅']\n",
    "#namelist = ['天色', '露草色', '青', '薄藍', '縹色']\n",
    "#namelist = ['青い服']\n",
    "#namelist =  ['青い空', '白い雲', '緑の草原']\n",
    "\n",
    "len_ = len(namelist)\n",
    "model = Color(in_dim = 35000).to(device)\n",
    "pre = './RGB_layer_ep240.pth'\n",
    "model.load_state_dict(torch.load(pre))\n",
    "colorlist = []\n",
    "for name in namelist: \n",
    "    print('name', name)\n",
    "    colorcode = txt2clr(name, model)\n",
    "    fig = plt.figure()\n",
    "    fig.patch.set_facecolor('white')\n",
    "\n",
    "    colorlist.append(str(colorcode))\n",
    "\n",
    "x = np.arange(1, len_+1)\n",
    "height = 10\n",
    "plt.barh(x, height, color=colorlist, tick_label=namelist, align=\"center\")\n",
    "plt.savefig('Color' + '.png')\n",
    "\n",
    "plt.show()\n",
    "\n"
   ]
  }
 ],
 "metadata": {
  "kernelspec": {
   "display_name": "Python 3 (ipykernel)",
   "language": "python",
   "name": "python3"
  },
  "language_info": {
   "codemirror_mode": {
    "name": "ipython",
    "version": 3
   },
   "file_extension": ".py",
   "mimetype": "text/x-python",
   "name": "python",
   "nbconvert_exporter": "python",
   "pygments_lexer": "ipython3",
   "version": "3.10.8"
  },
  "vscode": {
   "interpreter": {
    "hash": "916dbcbb3f70747c44a77c7bcd40155683ae19c65e1c03b4aa3499c5328201f1"
   }
  }
 },
 "nbformat": 4,
 "nbformat_minor": 5
}
